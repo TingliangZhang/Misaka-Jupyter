{
 "cells": [
  {
   "cell_type": "markdown",
   "metadata": {},
   "source": [
    "[Get started with XBee Python library](https://xbplib.readthedocs.io/en/stable/getting_started_with_xbee_python_library.html#get-started-with-xbee-python-library)"
   ]
  },
  {
   "cell_type": "markdown",
   "metadata": {},
   "source": [
    "### XBee Python library software\n",
    "\n",
    "The best way to install the XBee Python library is with the [pip](https://pip.pypa.io/en/stable) tool (which is what Python uses to install packages). The pip tool comes with recent versions of Python.\n",
    "\n",
    "To install the library, run this command in your terminal application:\n",
    "\n",
    "```\n",
    "$ pip install digi-xbee\n",
    "```"
   ]
  },
  {
   "cell_type": "code",
   "execution_count": null,
   "metadata": {},
   "outputs": [],
   "source": [
    "# Import the XBeeDevice class by executing the following command:\n",
    "\n",
    "from digi.xbee.devices import XBeeDevice\n",
    "\n",
    "# Instantiate a generic XBee device:\n",
    "\n",
    "device = XBeeDevice(\"COM5\", 9600)\n",
    "\n",
    "# Open the connection with the device:\n",
    "\n",
    "device.open()\n",
    "\n",
    "# Send the Hello XBee World! broadcast message.\n",
    "\n",
    "device.send_data_broadcast(\"Hello XBee World!\")\n",
    "\n",
    "# Close the connection with the device:\n",
    "\n",
    "device.close()"
   ]
  }
 ],
 "metadata": {
  "kernelspec": {
   "display_name": "Python 3",
   "language": "python",
   "name": "python3"
  },
  "language_info": {
   "codemirror_mode": {
    "name": "ipython",
    "version": 3
   },
   "file_extension": ".py",
   "mimetype": "text/x-python",
   "name": "python",
   "nbconvert_exporter": "python",
   "pygments_lexer": "ipython3",
   "version": "3.8.1"
  }
 },
 "nbformat": 4,
 "nbformat_minor": 4
}
