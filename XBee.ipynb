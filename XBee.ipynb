{
 "cells": [
  {
   "cell_type": "markdown",
   "metadata": {},
   "source": [
    "# Teleoperation\n",
    "\n",
    "In this example we'll control the Bot remotely with a gamepad controller connected to our web browser machine."
   ]
  },
  {
   "cell_type": "markdown",
   "metadata": {},
   "source": [
    "### Create gamepad controller\n",
    "\n",
    "The first thing we want to do is create an instance of the ``Controller`` widget, which we'll use to drive our robot.\n",
    "The ``Controller`` widget takes a ``index`` parameter, which specifies the number of the controller.  This is useful in case you\n",
    "have multiple controllers attached, or some gamepads *appear* as multiple controllers.  To determine the index\n",
    "of the controller you're using,\n",
    "\n",
    "1. Visit [http://html5gamepad.com](http://html5gamepad.com).  \n",
    "2. Press buttons on the gamepad you're using\n",
    "3. Remember the ``index`` of the gamepad that is responding to the button presses\n",
    "\n",
    "Next, we'll create and display our controller using that index."
   ]
  },
  {
   "cell_type": "code",
   "execution_count": null,
   "metadata": {},
   "outputs": [],
   "source": [
    "import ipywidgets.widgets as widgets\n",
    "\n",
    "controller = widgets.Controller(index=0)  # replace with index of your controller\n",
    "\n",
    "display(controller)"
   ]
  },
  {
   "cell_type": "markdown",
   "metadata": {},
   "source": [
    "Even if the index is correct, you may see the text ``Connect gamepad and press any button``.  That's because the gamepad hasn't\n",
    "registered with this notebook yet.  Press a button and you should see the gamepad widget appear above."
   ]
  },
  {
   "cell_type": "markdown",
   "metadata": {},
   "source": [
    "### Connect gamepad controller to robot motors\n",
    "\n",
    "Now, even though we've connected our gamepad, we haven't yet attached the controls to our robot!  The first, and most simple control\n",
    "we want to attach is the motor control.  We'll connect that to the left and right vertical axes using the ``dlink`` function.  The\n",
    "``dlink`` function, unlike the ``link`` function, allows us to attach a transform between the ``source`` and ``target``.  Because\n",
    "the controller axes are flipped from what we think is intuitive for the motor control, we'll use a small *lambda* function to\n",
    "negate the value.\n",
    "\n",
    "> WARNING: This next cell will move the robot if you touch the gamepad controller axes!"
   ]
  },
  {
   "cell_type": "code",
   "execution_count": null,
   "metadata": {},
   "outputs": [],
   "source": [
    "import traitlets\n",
    "\n",
    "class Robot():\n",
    "    def __init__(self, name):\n",
    "        self.name = name\n",
    "    Forward = 0\n",
    "    Right = 0\n",
    "    Rotate = 0\n",
    "\n",
    "\n",
    "robot1 = Robot(1)\n",
    "\n",
    "left_link = traitlets.dlink((controller.axes[1], 'value'), (robot1.Forward, 'value'), transform=lambda x: x*1)\n",
    "right_link = traitlets.dlink((controller.axes[0], 'value'), (robot1.Right, 'value'), transform=lambda x: x*1)"
   ]
  },
  {
   "cell_type": "markdown",
   "metadata": {},
   "source": [
    "Awesome! Our robot should now respond to our gamepad controller movements.  Now we want to view the live video feed from the camera!"
   ]
  },
  {
   "cell_type": "code",
   "execution_count": null,
   "metadata": {},
   "outputs": [],
   "source": []
  },
  {
   "cell_type": "markdown",
   "metadata": {},
   "source": [
    "# XBee TX on Python\n",
    "\n"
   ]
  },
  {
   "cell_type": "markdown",
   "metadata": {},
   "source": [
    "Import the XBeeDevice class by executing the following command:\n",
    "\n",
    "> from digi.xbee.devices import XBeeDevice\n",
    "Instantiate a generic XBee device:\n",
    "\n",
    "> device = XBeeDevice(\"COM1\", 9600)\n",
    "Note\n",
    "\n",
    "Remember to replace the COM port with the one your sender XBee device is connected to. In UNIX-based systems, the port usually starts with /dev/tty.\n",
    "\n",
    "Open the connection with the device:\n",
    "\n",
    "> device.open()\n",
    "Send the Hello XBee World! broadcast message.\n",
    "\n",
    "> device.send_data_broadcast(\"Hello XBee World!\")\n",
    "Close the connection with the device:\n",
    "\n",
    "> device.close()"
   ]
  },
  {
   "cell_type": "code",
   "execution_count": null,
   "metadata": {},
   "outputs": [],
   "source": [
    "from digi.xbee.devices import XBeeDevice\n",
    "device = XBeeDevice(\"COM5\", 9600)\n",
    "device.open()\n",
    "device.send_data_broadcast(\"Hello XBee World!\")\n",
    "device.close()"
   ]
  },
  {
   "cell_type": "markdown",
   "metadata": {},
   "source": [
    "## Retrieve the XBee network"
   ]
  },
  {
   "cell_type": "code",
   "execution_count": null,
   "metadata": {},
   "outputs": [],
   "source": [
    "from digi.xbee.devices import XBeeDevice\n",
    "\n",
    "# Instantiate an XBee device object.\n",
    "xbee = XBeeDevice(\"COM5\", 9600)\n",
    "\n",
    "xbee.open()\n",
    "\n",
    "# Get the XBee Network object from the XBee device.\n",
    "xnet = xbee.get_network()\n",
    "\n",
    "# Start the discovery process and wait for it to be over.\n",
    "xnet.start_discovery_process()\n",
    "while xnet.is_discovery_running():\n",
    "    time.sleep(0.5)\n",
    "\n",
    "# Get a list of the devices added to the network.\n",
    "devices = xnet.get_devices()\n",
    "\n",
    "xbee.close()"
   ]
  },
  {
   "cell_type": "markdown",
   "metadata": {},
   "source": [
    "# XBee异步发送字符串或整数"
   ]
  },
  {
   "cell_type": "code",
   "execution_count": null,
   "metadata": {},
   "outputs": [],
   "source": [
    "# Asynchronous operation\n",
    "# Transmitting data asynchronously means that your application does not block during the transmit process. However, you cannot ensure that the data was successfully sent to the remote device.\n",
    "\n",
    "from digi.xbee.devices import XBeeDevice\n",
    "\n",
    "# TODO: Replace with the serial port where your local module is connected to.\n",
    "PORT = \"COM5\"\n",
    "# TODO: Replace with the baud rate of your local module.\n",
    "BAUD_RATE = 9600\n",
    "\n",
    "DATA_TO_SEND = \"Hello XBee!\"\n",
    "REMOTE_NODE_ID = \"Test\"\n",
    "\n",
    "\n",
    "def main():\n",
    "    print(\" +-----------------------------------------------------+\")\n",
    "    print(\" | XBee Python Library Send Data Asynchronously Sample |\")\n",
    "    print(\" +-----------------------------------------------------+\\n\")\n",
    "\n",
    "    device = XBeeDevice(PORT, BAUD_RATE)\n",
    "\n",
    "    try:\n",
    "        device.open()\n",
    "\n",
    "        # Obtain the remote XBee device from the XBee network.\n",
    "        xbee_network = device.get_network()\n",
    "        remote_device = xbee_network.discover_device(REMOTE_NODE_ID)\n",
    "        if remote_device is None:\n",
    "            print(\"Could not find the remote device\")\n",
    "            exit(1)\n",
    "\n",
    "        print(\"Sending data asynchronously to %s >> %s...\" % (remote_device.get_64bit_addr(), DATA_TO_SEND))\n",
    "\n",
    "        device.send_data_async(remote_device, DATA_TO_SEND)\n",
    "\n",
    "        print(\"Success\")\n",
    "\n",
    "    finally:\n",
    "        if device is not None and device.is_open():\n",
    "            device.close()\n",
    "\n",
    "\n",
    "if __name__ == '__main__':\n",
    "    main()\n"
   ]
  },
  {
   "cell_type": "markdown",
   "metadata": {},
   "source": [
    "# 两个滑块和traitlets"
   ]
  },
  {
   "cell_type": "code",
   "execution_count": null,
   "metadata": {},
   "outputs": [],
   "source": [
    "import ipywidgets.widgets as widgets\n",
    "from IPython.display import display\n",
    "\n",
    "# create two sliders with range [-1.0, 1.0]\n",
    "left_slider = widgets.FloatSlider(description='left', min=-1.0, max=1.0, step=0.01, orientation='vertical')\n",
    "right_slider = widgets.FloatSlider(description='right', min=-1.0, max=1.0, step=0.01, orientation='vertical')\n",
    "\n",
    "# create a horizontal box container to place the sliders next to eachother\n",
    "slider_container = widgets.HBox([left_slider, right_slider])\n",
    "\n",
    "# display the container in this cell's output\n",
    "display(slider_container)"
   ]
  },
  {
   "cell_type": "code",
   "execution_count": null,
   "metadata": {},
   "outputs": [],
   "source": [
    "import traitlets\n",
    "\n",
    "# link双向\n",
    "# left_link = traitlets.link((left_slider, 'value'), (robot.left_motor, 'value'))\n",
    "# right_link = traitlets.link((right_slider, 'value'), (robot.right_motor, 'value'))\n",
    "\n",
    "# dlink单向\n",
    "left_link = traitlets.dlink((robot.left_motor, 'value'), (left_slider, 'value'))\n",
    "right_link = traitlets.dlink((robot.right_motor, 'value'), (right_slider, 'value'))"
   ]
  },
  {
   "cell_type": "code",
   "execution_count": null,
   "metadata": {},
   "outputs": [],
   "source": [
    "import traitlets\n",
    "\n",
    "robot = Robot()\n",
    "\n",
    "left_link = traitlets.dlink((controller.axes[1], 'value'), (robot.left_motor, 'value'), transform=lambda x: -x)\n",
    "right_link = traitlets.dlink((controller.axes[3], 'value'), (robot.right_motor, 'value'), transform=lambda x: -x)"
   ]
  },
  {
   "cell_type": "code",
   "execution_count": 2,
   "metadata": {},
   "outputs": [
    {
     "data": {
      "application/vnd.jupyter.widget-view+json": {
       "model_id": "df5c7d5903a541bb83b9ea8c5a10c4b2",
       "version_major": 2,
       "version_minor": 0
      },
      "text/plain": [
       "Controller()"
      ]
     },
     "metadata": {},
     "output_type": "display_data"
    }
   ],
   "source": [
    "import ipywidgets.widgets as widgets\n",
    "from IPython.display import display\n",
    "import traitlets\n",
    "\n",
    "controller = widgets.Controller(index=0)  # replace with index of your controller\n",
    "\n",
    "display(controller)"
   ]
  },
  {
   "cell_type": "code",
   "execution_count": 6,
   "metadata": {},
   "outputs": [
    {
     "data": {
      "application/vnd.jupyter.widget-view+json": {
       "model_id": "368877a70c7e418ba390f5597e89b78b",
       "version_major": 2,
       "version_minor": 0
      },
      "text/plain": [
       "Controller()"
      ]
     },
     "metadata": {},
     "output_type": "display_data"
    },
    {
     "data": {
      "application/vnd.jupyter.widget-view+json": {
       "model_id": "67ce6e81ccc54573b6891fca2e2f7880",
       "version_major": 2,
       "version_minor": 0
      },
      "text/plain": [
       "HBox(children=(FloatSlider(value=0.0, description='left', max=1.0, min=-1.0, orientation='vertical', step=0.01…"
      ]
     },
     "metadata": {},
     "output_type": "display_data"
    },
    {
     "ename": "TraitError",
     "evalue": "Unexpected error in TraitType: default value not set properly",
     "output_type": "error",
     "traceback": [
      "\u001b[1;31m---------------------------------------------------------------------------\u001b[0m",
      "\u001b[1;31mAttributeError\u001b[0m                            Traceback (most recent call last)",
      "\u001b[1;32m~\\AppData\\Local\\Programs\\Python\\Python38\\lib\\site-packages\\traitlets\\traitlets.py\u001b[0m in \u001b[0;36mget\u001b[1;34m(self, obj, cls)\u001b[0m\n\u001b[0;32m    527\u001b[0m         \u001b[1;32mtry\u001b[0m\u001b[1;33m:\u001b[0m\u001b[1;33m\u001b[0m\u001b[1;33m\u001b[0m\u001b[0m\n\u001b[1;32m--> 528\u001b[1;33m             \u001b[0mvalue\u001b[0m \u001b[1;33m=\u001b[0m \u001b[0mobj\u001b[0m\u001b[1;33m.\u001b[0m\u001b[0m_trait_values\u001b[0m\u001b[1;33m[\u001b[0m\u001b[0mself\u001b[0m\u001b[1;33m.\u001b[0m\u001b[0mname\u001b[0m\u001b[1;33m]\u001b[0m\u001b[1;33m\u001b[0m\u001b[1;33m\u001b[0m\u001b[0m\n\u001b[0m\u001b[0;32m    529\u001b[0m         \u001b[1;32mexcept\u001b[0m \u001b[0mKeyError\u001b[0m\u001b[1;33m:\u001b[0m\u001b[1;33m\u001b[0m\u001b[1;33m\u001b[0m\u001b[0m\n",
      "\u001b[1;31mAttributeError\u001b[0m: 'Robot' object has no attribute '_trait_values'",
      "\nDuring handling of the above exception, another exception occurred:\n",
      "\u001b[1;31mTraitError\u001b[0m                                Traceback (most recent call last)",
      "\u001b[1;32m<ipython-input-6-70e87b356873>\u001b[0m in \u001b[0;36m<module>\u001b[1;34m\u001b[0m\n\u001b[0;32m     30\u001b[0m \u001b[0mdisplay\u001b[0m\u001b[1;33m(\u001b[0m\u001b[0mslider_container\u001b[0m\u001b[1;33m)\u001b[0m\u001b[1;33m\u001b[0m\u001b[1;33m\u001b[0m\u001b[0m\n\u001b[0;32m     31\u001b[0m \u001b[1;33m\u001b[0m\u001b[0m\n\u001b[1;32m---> 32\u001b[1;33m \u001b[0mleft_link\u001b[0m \u001b[1;33m=\u001b[0m \u001b[0mtraitlets\u001b[0m\u001b[1;33m.\u001b[0m\u001b[0mlink\u001b[0m\u001b[1;33m(\u001b[0m\u001b[1;33m(\u001b[0m\u001b[0mleft_slider\u001b[0m\u001b[1;33m,\u001b[0m \u001b[1;34m'value'\u001b[0m\u001b[1;33m)\u001b[0m\u001b[1;33m,\u001b[0m \u001b[1;33m(\u001b[0m\u001b[0mrobot1\u001b[0m\u001b[1;33m.\u001b[0m\u001b[0mForward\u001b[0m\u001b[1;33m,\u001b[0m \u001b[1;34m'value'\u001b[0m\u001b[1;33m)\u001b[0m\u001b[1;33m)\u001b[0m\u001b[1;33m\u001b[0m\u001b[1;33m\u001b[0m\u001b[0m\n\u001b[0m\u001b[0;32m     33\u001b[0m \u001b[0mright_link\u001b[0m \u001b[1;33m=\u001b[0m \u001b[0mtraitlets\u001b[0m\u001b[1;33m.\u001b[0m\u001b[0mlink\u001b[0m\u001b[1;33m(\u001b[0m\u001b[1;33m(\u001b[0m\u001b[0mright_slider\u001b[0m\u001b[1;33m,\u001b[0m \u001b[1;34m'value'\u001b[0m\u001b[1;33m)\u001b[0m\u001b[1;33m,\u001b[0m \u001b[1;33m(\u001b[0m\u001b[0mrobot1\u001b[0m\u001b[1;33m.\u001b[0m\u001b[0mRight\u001b[0m\u001b[1;33m,\u001b[0m \u001b[1;34m'value'\u001b[0m\u001b[1;33m)\u001b[0m\u001b[1;33m)\u001b[0m\u001b[1;33m\u001b[0m\u001b[1;33m\u001b[0m\u001b[0m\n",
      "\u001b[1;32m~\\AppData\\Local\\Programs\\Python\\Python38\\lib\\site-packages\\traitlets\\traitlets.py\u001b[0m in \u001b[0;36m__get__\u001b[1;34m(self, obj, cls)\u001b[0m\n\u001b[0;32m    554\u001b[0m             \u001b[1;32mreturn\u001b[0m \u001b[0mself\u001b[0m\u001b[1;33m\u001b[0m\u001b[1;33m\u001b[0m\u001b[0m\n\u001b[0;32m    555\u001b[0m         \u001b[1;32melse\u001b[0m\u001b[1;33m:\u001b[0m\u001b[1;33m\u001b[0m\u001b[1;33m\u001b[0m\u001b[0m\n\u001b[1;32m--> 556\u001b[1;33m             \u001b[1;32mreturn\u001b[0m \u001b[0mself\u001b[0m\u001b[1;33m.\u001b[0m\u001b[0mget\u001b[0m\u001b[1;33m(\u001b[0m\u001b[0mobj\u001b[0m\u001b[1;33m,\u001b[0m \u001b[0mcls\u001b[0m\u001b[1;33m)\u001b[0m\u001b[1;33m\u001b[0m\u001b[1;33m\u001b[0m\u001b[0m\n\u001b[0m\u001b[0;32m    557\u001b[0m \u001b[1;33m\u001b[0m\u001b[0m\n\u001b[0;32m    558\u001b[0m     \u001b[1;32mdef\u001b[0m \u001b[0mset\u001b[0m\u001b[1;33m(\u001b[0m\u001b[0mself\u001b[0m\u001b[1;33m,\u001b[0m \u001b[0mobj\u001b[0m\u001b[1;33m,\u001b[0m \u001b[0mvalue\u001b[0m\u001b[1;33m)\u001b[0m\u001b[1;33m:\u001b[0m\u001b[1;33m\u001b[0m\u001b[1;33m\u001b[0m\u001b[0m\n",
      "\u001b[1;32m~\\AppData\\Local\\Programs\\Python\\Python38\\lib\\site-packages\\traitlets\\traitlets.py\u001b[0m in \u001b[0;36mget\u001b[1;34m(self, obj, cls)\u001b[0m\n\u001b[0;32m    538\u001b[0m         \u001b[1;32mexcept\u001b[0m \u001b[0mException\u001b[0m\u001b[1;33m:\u001b[0m\u001b[1;33m\u001b[0m\u001b[1;33m\u001b[0m\u001b[0m\n\u001b[0;32m    539\u001b[0m             \u001b[1;31m# This should never be reached.\u001b[0m\u001b[1;33m\u001b[0m\u001b[1;33m\u001b[0m\u001b[1;33m\u001b[0m\u001b[0m\n\u001b[1;32m--> 540\u001b[1;33m             raise TraitError('Unexpected error in TraitType: '\n\u001b[0m\u001b[0;32m    541\u001b[0m                              'default value not set properly')\n\u001b[0;32m    542\u001b[0m         \u001b[1;32melse\u001b[0m\u001b[1;33m:\u001b[0m\u001b[1;33m\u001b[0m\u001b[1;33m\u001b[0m\u001b[0m\n",
      "\u001b[1;31mTraitError\u001b[0m: Unexpected error in TraitType: default value not set properly"
     ]
    }
   ],
   "source": [
    "import ipywidgets.widgets as widgets\n",
    "from IPython.display import display\n",
    "import traitlets\n",
    "\n",
    "controller = widgets.Controller(index=0)  # replace with index of your controller\n",
    "\n",
    "display(controller)\n",
    "\n",
    "class Robot():\n",
    "    def __init__(self, name):\n",
    "        self.name = name\n",
    "    Forward = traitlets.Float(0)\n",
    "    Right = traitlets.Float(0)\n",
    "    Rotate = traitlets.Float(0)\n",
    "\n",
    "\n",
    "robot1 = Robot(1)\n",
    "\n",
    "# left_link = traitlets.dlink((controller.axes[1], 'value'), (robot1.Forward, 'value'), transform=lambda x: x*1)\n",
    "# right_link = traitlets.dlink((controller.axes[0], 'value'), (robot1.Right, 'value'), transform=lambda x: x*1)\n",
    "\n",
    "# create two sliders with range [-1.0, 1.0]\n",
    "left_slider = widgets.FloatSlider(description='left', min=-1.0, max=1.0, step=0.01, orientation='vertical')\n",
    "right_slider = widgets.FloatSlider(description='right', min=-1.0, max=1.0, step=0.01, orientation='vertical')\n",
    "\n",
    "# create a horizontal box container to place the sliders next to eachother\n",
    "slider_container = widgets.HBox([left_slider, right_slider])\n",
    "\n",
    "# display the container in this cell's output\n",
    "display(slider_container)\n",
    "\n",
    "left_link = traitlets.link((left_slider, 'value'), (robot1.Forward, 'value'))\n",
    "right_link = traitlets.link((right_slider, 'value'), (robot1.Right, 'value'))"
   ]
  },
  {
   "cell_type": "code",
   "execution_count": 9,
   "metadata": {},
   "outputs": [
    {
     "ename": "NameError",
     "evalue": "name 'HasTraits' is not defined",
     "output_type": "error",
     "traceback": [
      "\u001b[1;31m---------------------------------------------------------------------------\u001b[0m",
      "\u001b[1;31mNameError\u001b[0m                                 Traceback (most recent call last)",
      "\u001b[1;32m<ipython-input-9-63463803d733>\u001b[0m in \u001b[0;36m<module>\u001b[1;34m\u001b[0m\n\u001b[0;32m      1\u001b[0m \u001b[1;32mimport\u001b[0m \u001b[0mtraitlets\u001b[0m\u001b[1;33m\u001b[0m\u001b[1;33m\u001b[0m\u001b[0m\n\u001b[0;32m      2\u001b[0m \u001b[1;33m\u001b[0m\u001b[0m\n\u001b[1;32m----> 3\u001b[1;33m \u001b[1;32mclass\u001b[0m \u001b[0mRobot\u001b[0m\u001b[1;33m(\u001b[0m\u001b[1;33m)\u001b[0m\u001b[1;33m:\u001b[0m\u001b[1;33m\u001b[0m\u001b[1;33m\u001b[0m\u001b[0m\n\u001b[0m\u001b[0;32m      4\u001b[0m     \u001b[1;32mdef\u001b[0m \u001b[0m__init__\u001b[0m\u001b[1;33m(\u001b[0m\u001b[0mself\u001b[0m\u001b[1;33m,\u001b[0m \u001b[0mname\u001b[0m\u001b[1;33m)\u001b[0m\u001b[1;33m:\u001b[0m\u001b[1;33m\u001b[0m\u001b[1;33m\u001b[0m\u001b[0m\n\u001b[0;32m      5\u001b[0m         \u001b[0mself\u001b[0m\u001b[1;33m.\u001b[0m\u001b[0mname\u001b[0m \u001b[1;33m=\u001b[0m \u001b[0mname\u001b[0m\u001b[1;33m\u001b[0m\u001b[1;33m\u001b[0m\u001b[0m\n",
      "\u001b[1;32m<ipython-input-9-63463803d733>\u001b[0m in \u001b[0;36mRobot\u001b[1;34m()\u001b[0m\n\u001b[0;32m      4\u001b[0m     \u001b[1;32mdef\u001b[0m \u001b[0m__init__\u001b[0m\u001b[1;33m(\u001b[0m\u001b[0mself\u001b[0m\u001b[1;33m,\u001b[0m \u001b[0mname\u001b[0m\u001b[1;33m)\u001b[0m\u001b[1;33m:\u001b[0m\u001b[1;33m\u001b[0m\u001b[1;33m\u001b[0m\u001b[0m\n\u001b[0;32m      5\u001b[0m         \u001b[0mself\u001b[0m\u001b[1;33m.\u001b[0m\u001b[0mname\u001b[0m \u001b[1;33m=\u001b[0m \u001b[0mname\u001b[0m\u001b[1;33m\u001b[0m\u001b[1;33m\u001b[0m\u001b[0m\n\u001b[1;32m----> 6\u001b[1;33m     \u001b[1;32mclass\u001b[0m \u001b[0mSpeed\u001b[0m\u001b[1;33m(\u001b[0m\u001b[0mHasTraits\u001b[0m\u001b[1;33m)\u001b[0m\u001b[1;33m:\u001b[0m\u001b[1;33m\u001b[0m\u001b[1;33m\u001b[0m\u001b[0m\n\u001b[0m\u001b[0;32m      7\u001b[0m         \u001b[0mForward\u001b[0m \u001b[1;33m=\u001b[0m \u001b[0mFloat\u001b[0m\u001b[1;33m(\u001b[0m\u001b[1;33m)\u001b[0m\u001b[1;33m\u001b[0m\u001b[1;33m\u001b[0m\u001b[0m\n\u001b[0;32m      8\u001b[0m         \u001b[0mRight\u001b[0m \u001b[1;33m=\u001b[0m \u001b[0mFloat\u001b[0m\u001b[1;33m(\u001b[0m\u001b[1;33m)\u001b[0m\u001b[1;33m\u001b[0m\u001b[1;33m\u001b[0m\u001b[0m\n",
      "\u001b[1;31mNameError\u001b[0m: name 'HasTraits' is not defined"
     ]
    }
   ],
   "source": [
    "import traitlets\n",
    "\n",
    "class Robot():\n",
    "    def __init__(self, name):\n",
    "        self.name = name\n",
    "    class Speed(HasTraits):\n",
    "        Forward = Float()\n",
    "        Right = Float()\n",
    "        Rotate = Float()\n",
    "\n",
    "Car1 = Robot(1)\n",
    "\n",
    "Car1.Speed.Forward = 1"
   ]
  },
  {
   "cell_type": "code",
   "execution_count": 23,
   "metadata": {},
   "outputs": [
    {
     "ename": "TypeError",
     "evalue": "Each object must be HasTraits, not <class 'traitlets.traitlets.Float'>",
     "output_type": "error",
     "traceback": [
      "\u001b[1;31m---------------------------------------------------------------------------\u001b[0m",
      "\u001b[1;31mTypeError\u001b[0m                                 Traceback (most recent call last)",
      "\u001b[1;32m<ipython-input-23-eda40b90c663>\u001b[0m in \u001b[0;36m<module>\u001b[1;34m\u001b[0m\n\u001b[0;32m     11\u001b[0m \u001b[0mleft_slider\u001b[0m \u001b[1;33m=\u001b[0m \u001b[0mwidgets\u001b[0m\u001b[1;33m.\u001b[0m\u001b[0mFloatSlider\u001b[0m\u001b[1;33m(\u001b[0m\u001b[0mdescription\u001b[0m\u001b[1;33m=\u001b[0m\u001b[1;34m'left'\u001b[0m\u001b[1;33m,\u001b[0m \u001b[0mmin\u001b[0m\u001b[1;33m=\u001b[0m\u001b[1;33m-\u001b[0m\u001b[1;36m1.0\u001b[0m\u001b[1;33m,\u001b[0m \u001b[0mmax\u001b[0m\u001b[1;33m=\u001b[0m\u001b[1;36m1.0\u001b[0m\u001b[1;33m,\u001b[0m \u001b[0mstep\u001b[0m\u001b[1;33m=\u001b[0m\u001b[1;36m0.01\u001b[0m\u001b[1;33m,\u001b[0m \u001b[0morientation\u001b[0m\u001b[1;33m=\u001b[0m\u001b[1;34m'vertical'\u001b[0m\u001b[1;33m)\u001b[0m\u001b[1;33m\u001b[0m\u001b[1;33m\u001b[0m\u001b[0m\n\u001b[0;32m     12\u001b[0m \u001b[1;33m\u001b[0m\u001b[0m\n\u001b[1;32m---> 13\u001b[1;33m \u001b[0mleft_link\u001b[0m \u001b[1;33m=\u001b[0m \u001b[0mtraitlets\u001b[0m\u001b[1;33m.\u001b[0m\u001b[0mdlink\u001b[0m\u001b[1;33m(\u001b[0m\u001b[1;33m(\u001b[0m\u001b[0mleft_slider\u001b[0m\u001b[1;33m,\u001b[0m \u001b[1;34m'value'\u001b[0m\u001b[1;33m)\u001b[0m\u001b[1;33m,\u001b[0m \u001b[1;33m(\u001b[0m\u001b[0mSpeed\u001b[0m\u001b[1;33m.\u001b[0m\u001b[0mForward\u001b[0m\u001b[1;33m,\u001b[0m \u001b[1;34m'value'\u001b[0m\u001b[1;33m)\u001b[0m\u001b[1;33m)\u001b[0m\u001b[1;33m\u001b[0m\u001b[1;33m\u001b[0m\u001b[0m\n\u001b[0m",
      "\u001b[1;32m~\\AppData\\Local\\Programs\\Python\\Python38\\lib\\site-packages\\traitlets\\traitlets.py\u001b[0m in \u001b[0;36m__init__\u001b[1;34m(self, source, target, transform)\u001b[0m\n\u001b[0;32m    324\u001b[0m     \u001b[1;32mdef\u001b[0m \u001b[0m__init__\u001b[0m\u001b[1;33m(\u001b[0m\u001b[0mself\u001b[0m\u001b[1;33m,\u001b[0m \u001b[0msource\u001b[0m\u001b[1;33m,\u001b[0m \u001b[0mtarget\u001b[0m\u001b[1;33m,\u001b[0m \u001b[0mtransform\u001b[0m\u001b[1;33m=\u001b[0m\u001b[1;32mNone\u001b[0m\u001b[1;33m)\u001b[0m\u001b[1;33m:\u001b[0m\u001b[1;33m\u001b[0m\u001b[1;33m\u001b[0m\u001b[0m\n\u001b[0;32m    325\u001b[0m         \u001b[0mself\u001b[0m\u001b[1;33m.\u001b[0m\u001b[0m_transform\u001b[0m \u001b[1;33m=\u001b[0m \u001b[0mtransform\u001b[0m \u001b[1;32mif\u001b[0m \u001b[0mtransform\u001b[0m \u001b[1;32melse\u001b[0m \u001b[1;32mlambda\u001b[0m \u001b[0mx\u001b[0m\u001b[1;33m:\u001b[0m \u001b[0mx\u001b[0m\u001b[1;33m\u001b[0m\u001b[1;33m\u001b[0m\u001b[0m\n\u001b[1;32m--> 326\u001b[1;33m         \u001b[0m_validate_link\u001b[0m\u001b[1;33m(\u001b[0m\u001b[0msource\u001b[0m\u001b[1;33m,\u001b[0m \u001b[0mtarget\u001b[0m\u001b[1;33m)\u001b[0m\u001b[1;33m\u001b[0m\u001b[1;33m\u001b[0m\u001b[0m\n\u001b[0m\u001b[0;32m    327\u001b[0m         \u001b[0mself\u001b[0m\u001b[1;33m.\u001b[0m\u001b[0msource\u001b[0m\u001b[1;33m,\u001b[0m \u001b[0mself\u001b[0m\u001b[1;33m.\u001b[0m\u001b[0mtarget\u001b[0m \u001b[1;33m=\u001b[0m \u001b[0msource\u001b[0m\u001b[1;33m,\u001b[0m \u001b[0mtarget\u001b[0m\u001b[1;33m\u001b[0m\u001b[1;33m\u001b[0m\u001b[0m\n\u001b[0;32m    328\u001b[0m         \u001b[1;32mtry\u001b[0m\u001b[1;33m:\u001b[0m\u001b[1;33m\u001b[0m\u001b[1;33m\u001b[0m\u001b[0m\n",
      "\u001b[1;32m~\\AppData\\Local\\Programs\\Python\\Python38\\lib\\site-packages\\traitlets\\traitlets.py\u001b[0m in \u001b[0;36m_validate_link\u001b[1;34m(*tuples)\u001b[0m\n\u001b[0;32m    248\u001b[0m         \u001b[0mobj\u001b[0m\u001b[1;33m,\u001b[0m \u001b[0mtrait_name\u001b[0m \u001b[1;33m=\u001b[0m \u001b[0mt\u001b[0m\u001b[1;33m\u001b[0m\u001b[1;33m\u001b[0m\u001b[0m\n\u001b[0;32m    249\u001b[0m         \u001b[1;32mif\u001b[0m \u001b[1;32mnot\u001b[0m \u001b[0misinstance\u001b[0m\u001b[1;33m(\u001b[0m\u001b[0mobj\u001b[0m\u001b[1;33m,\u001b[0m \u001b[0mHasTraits\u001b[0m\u001b[1;33m)\u001b[0m\u001b[1;33m:\u001b[0m\u001b[1;33m\u001b[0m\u001b[1;33m\u001b[0m\u001b[0m\n\u001b[1;32m--> 250\u001b[1;33m             \u001b[1;32mraise\u001b[0m \u001b[0mTypeError\u001b[0m\u001b[1;33m(\u001b[0m\u001b[1;34m\"Each object must be HasTraits, not %r\"\u001b[0m \u001b[1;33m%\u001b[0m \u001b[0mtype\u001b[0m\u001b[1;33m(\u001b[0m\u001b[0mobj\u001b[0m\u001b[1;33m)\u001b[0m\u001b[1;33m)\u001b[0m\u001b[1;33m\u001b[0m\u001b[1;33m\u001b[0m\u001b[0m\n\u001b[0m\u001b[0;32m    251\u001b[0m         \u001b[1;32mif\u001b[0m \u001b[1;32mnot\u001b[0m \u001b[0mtrait_name\u001b[0m \u001b[1;32min\u001b[0m \u001b[0mobj\u001b[0m\u001b[1;33m.\u001b[0m\u001b[0mtraits\u001b[0m\u001b[1;33m(\u001b[0m\u001b[1;33m)\u001b[0m\u001b[1;33m:\u001b[0m\u001b[1;33m\u001b[0m\u001b[1;33m\u001b[0m\u001b[0m\n\u001b[0;32m    252\u001b[0m             \u001b[1;32mraise\u001b[0m \u001b[0mTypeError\u001b[0m\u001b[1;33m(\u001b[0m\u001b[1;34m\"%r has no trait %r\"\u001b[0m \u001b[1;33m%\u001b[0m \u001b[1;33m(\u001b[0m\u001b[0mobj\u001b[0m\u001b[1;33m,\u001b[0m \u001b[0mtrait_name\u001b[0m\u001b[1;33m)\u001b[0m\u001b[1;33m)\u001b[0m\u001b[1;33m\u001b[0m\u001b[1;33m\u001b[0m\u001b[0m\n",
      "\u001b[1;31mTypeError\u001b[0m: Each object must be HasTraits, not <class 'traitlets.traitlets.Float'>"
     ]
    }
   ],
   "source": [
    "import ipywidgets.widgets as widgets\n",
    "from IPython.display import display\n",
    "import traitlets\n",
    "from traitlets import HasTraits, TraitError, UseEnum\n",
    "\n",
    "class Speed():\n",
    "    Forward = traitlets.Float(default_value=0.0)\n",
    "#     Right = 0\n",
    "#     Rotate = 0\n",
    "\n",
    "left_slider = widgets.FloatSlider(description='left', min=-1.0, max=1.0, step=0.01, orientation='vertical')\n",
    "\n",
    "left_link = traitlets.dlink((left_slider, 'value'), (Speed.Forward, 'value'))"
   ]
  },
  {
   "cell_type": "code",
   "execution_count": null,
   "metadata": {},
   "outputs": [],
   "source": []
  }
 ],
 "metadata": {
  "file_extension": ".py",
  "kernelspec": {
   "display_name": "Python 3.8.1 64-bit",
   "language": "python",
   "name": "python38164bite39038af795f47b19a575499b996410f"
  },
  "language_info": {
   "codemirror_mode": {
    "name": "ipython",
    "version": 3
   },
   "file_extension": ".py",
   "mimetype": "text/x-python",
   "name": "python",
   "nbconvert_exporter": "python",
   "pygments_lexer": "ipython3",
   "version": "3.8.1"
  },
  "mimetype": "text/x-python",
  "name": "python",
  "npconvert_exporter": "python",
  "pygments_lexer": "ipython3",
  "version": 3
 },
 "nbformat": 4,
 "nbformat_minor": 4
}
