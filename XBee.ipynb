{
 "cells": [
  {
   "cell_type": "markdown",
   "metadata": {},
   "source": [
    "# Teleoperation\n",
    "\n",
    "In this example we'll control the Bot remotely with a gamepad controller connected to our web browser machine."
   ]
  },
  {
   "cell_type": "markdown",
   "metadata": {},
   "source": [
    "### Create gamepad controller\n",
    "\n",
    "The first thing we want to do is create an instance of the ``Controller`` widget, which we'll use to drive our robot.\n",
    "The ``Controller`` widget takes a ``index`` parameter, which specifies the number of the controller.  This is useful in case you\n",
    "have multiple controllers attached, or some gamepads *appear* as multiple controllers.  To determine the index\n",
    "of the controller you're using,\n",
    "\n",
    "1. Visit [http://html5gamepad.com](http://html5gamepad.com).  \n",
    "2. Press buttons on the gamepad you're using\n",
    "3. Remember the ``index`` of the gamepad that is responding to the button presses\n",
    "\n",
    "Next, we'll create and display our controller using that index."
   ]
  },
  {
   "cell_type": "code",
   "execution_count": null,
   "metadata": {},
   "outputs": [],
   "source": [
    "import ipywidgets.widgets as widgets\n",
    "\n",
    "controller = widgets.Controller(index=0)  # replace with index of your controller\n",
    "\n",
    "display(controller)"
   ]
  },
  {
   "cell_type": "markdown",
   "metadata": {},
   "source": [
    "Even if the index is correct, you may see the text ``Connect gamepad and press any button``.  That's because the gamepad hasn't\n",
    "registered with this notebook yet.  Press a button and you should see the gamepad widget appear above."
   ]
  },
  {
   "cell_type": "markdown",
   "metadata": {},
   "source": [
    "### Connect gamepad controller to robot motors\n",
    "\n",
    "Now, even though we've connected our gamepad, we haven't yet attached the controls to our robot!  The first, and most simple control\n",
    "we want to attach is the motor control.  We'll connect that to the left and right vertical axes using the ``dlink`` function.  The\n",
    "``dlink`` function, unlike the ``link`` function, allows us to attach a transform between the ``source`` and ``target``.  Because\n",
    "the controller axes are flipped from what we think is intuitive for the motor control, we'll use a small *lambda* function to\n",
    "negate the value.\n",
    "\n",
    "> WARNING: This next cell will move the robot if you touch the gamepad controller axes!"
   ]
  },
  {
   "cell_type": "code",
   "execution_count": null,
   "metadata": {},
   "outputs": [],
   "source": [
    "import traitlets\n",
    "\n",
    "class Robot():\n",
    "    def __init__(self, name):\n",
    "        self.name = name\n",
    "    Forward = 0\n",
    "    Right = 0\n",
    "    Rotate = 0\n",
    "\n",
    "\n",
    "robot1 = Robot(1)\n",
    "\n",
    "left_link = traitlets.dlink((controller.axes[1], 'value'), (robot1.Forward, 'value'), transform=lambda x: x*1)\n",
    "right_link = traitlets.dlink((controller.axes[0], 'value'), (robot1.Right, 'value'), transform=lambda x: x*1)"
   ]
  },
  {
   "cell_type": "markdown",
   "metadata": {},
   "source": [
    "Awesome! Our robot should now respond to our gamepad controller movements.  Now we want to view the live video feed from the camera!"
   ]
  },
  {
   "cell_type": "code",
   "execution_count": null,
   "metadata": {},
   "outputs": [],
   "source": []
  },
  {
   "cell_type": "markdown",
   "metadata": {},
   "source": [
    "# XBee TX on Python\n",
    "\n"
   ]
  },
  {
   "cell_type": "markdown",
   "metadata": {},
   "source": [
    "Import the XBeeDevice class by executing the following command:\n",
    "\n",
    "> from digi.xbee.devices import XBeeDevice\n",
    "Instantiate a generic XBee device:\n",
    "\n",
    "> device = XBeeDevice(\"COM1\", 9600)\n",
    "Note\n",
    "\n",
    "Remember to replace the COM port with the one your sender XBee device is connected to. In UNIX-based systems, the port usually starts with /dev/tty.\n",
    "\n",
    "Open the connection with the device:\n",
    "\n",
    "> device.open()\n",
    "Send the Hello XBee World! broadcast message.\n",
    "\n",
    "> device.send_data_broadcast(\"Hello XBee World!\")\n",
    "Close the connection with the device:\n",
    "\n",
    "> device.close()"
   ]
  },
  {
   "cell_type": "code",
   "execution_count": null,
   "metadata": {},
   "outputs": [],
   "source": [
    "from digi.xbee.devices import XBeeDevice\n",
    "device = XBeeDevice(\"COM5\", 9600)\n",
    "device.open()\n",
    "device.send_data_broadcast(\"Hello XBee World!\")\n",
    "device.close()"
   ]
  },
  {
   "cell_type": "markdown",
   "metadata": {},
   "source": [
    "## Retrieve the XBee network"
   ]
  },
  {
   "cell_type": "code",
   "execution_count": null,
   "metadata": {},
   "outputs": [],
   "source": [
    "from digi.xbee.devices import XBeeDevice\n",
    "\n",
    "# Instantiate an XBee device object.\n",
    "xbee = XBeeDevice(\"COM5\", 9600)\n",
    "\n",
    "xbee.open()\n",
    "\n",
    "# Get the XBee Network object from the XBee device.\n",
    "xnet = xbee.get_network()\n",
    "\n",
    "# Start the discovery process and wait for it to be over.\n",
    "xnet.start_discovery_process()\n",
    "while xnet.is_discovery_running():\n",
    "    time.sleep(0.5)\n",
    "\n",
    "# Get a list of the devices added to the network.\n",
    "devices = xnet.get_devices()\n",
    "\n",
    "xbee.close()"
   ]
  },
  {
   "cell_type": "markdown",
   "metadata": {},
   "source": [
    "# XBee异步发送字符串或整数"
   ]
  },
  {
   "cell_type": "code",
   "execution_count": null,
   "metadata": {},
   "outputs": [],
   "source": [
    "# Asynchronous operation\n",
    "# Transmitting data asynchronously means that your application does not block during the transmit process. However, you cannot ensure that the data was successfully sent to the remote device.\n",
    "\n",
    "from digi.xbee.devices import XBeeDevice\n",
    "\n",
    "# TODO: Replace with the serial port where your local module is connected to.\n",
    "PORT = \"COM5\"\n",
    "# TODO: Replace with the baud rate of your local module.\n",
    "BAUD_RATE = 9600\n",
    "\n",
    "DATA_TO_SEND = \"Hello XBee!\"\n",
    "REMOTE_NODE_ID = \"Test\"\n",
    "\n",
    "\n",
    "def main():\n",
    "    print(\" +-----------------------------------------------------+\")\n",
    "    print(\" | XBee Python Library Send Data Asynchronously Sample |\")\n",
    "    print(\" +-----------------------------------------------------+\\n\")\n",
    "\n",
    "    device = XBeeDevice(PORT, BAUD_RATE)\n",
    "\n",
    "    try:\n",
    "        device.open()\n",
    "\n",
    "        # Obtain the remote XBee device from the XBee network.\n",
    "        xbee_network = device.get_network()\n",
    "        remote_device = xbee_network.discover_device(REMOTE_NODE_ID)\n",
    "        if remote_device is None:\n",
    "            print(\"Could not find the remote device\")\n",
    "            exit(1)\n",
    "\n",
    "        print(\"Sending data asynchronously to %s >> %s...\" % (remote_device.get_64bit_addr(), DATA_TO_SEND))\n",
    "\n",
    "        device.send_data_async(remote_device, DATA_TO_SEND)\n",
    "\n",
    "        print(\"Success\")\n",
    "\n",
    "    finally:\n",
    "        if device is not None and device.is_open():\n",
    "            device.close()\n",
    "\n",
    "\n",
    "if __name__ == '__main__':\n",
    "    main()\n"
   ]
  },
  {
   "cell_type": "markdown",
   "metadata": {},
   "source": [
    "# 两个滑块和traitlets"
   ]
  },
  {
   "cell_type": "code",
   "execution_count": null,
   "metadata": {},
   "outputs": [],
   "source": [
    "import ipywidgets.widgets as widgets\n",
    "from IPython.display import display\n",
    "\n",
    "# create two sliders with range [-1.0, 1.0]\n",
    "left_slider = widgets.FloatSlider(description='left', min=-1.0, max=1.0, step=0.01, orientation='vertical')\n",
    "right_slider = widgets.FloatSlider(description='right', min=-1.0, max=1.0, step=0.01, orientation='vertical')\n",
    "\n",
    "# create a horizontal box container to place the sliders next to eachother\n",
    "slider_container = widgets.HBox([left_slider, right_slider])\n",
    "\n",
    "# display the container in this cell's output\n",
    "display(slider_container)"
   ]
  },
  {
   "cell_type": "code",
   "execution_count": null,
   "metadata": {},
   "outputs": [],
   "source": [
    "import traitlets\n",
    "\n",
    "# link双向\n",
    "# left_link = traitlets.link((left_slider, 'value'), (robot.left_motor, 'value'))\n",
    "# right_link = traitlets.link((right_slider, 'value'), (robot.right_motor, 'value'))\n",
    "\n",
    "# dlink单向\n",
    "left_link = traitlets.dlink((robot.left_motor, 'value'), (left_slider, 'value'))\n",
    "right_link = traitlets.dlink((robot.right_motor, 'value'), (right_slider, 'value'))"
   ]
  },
  {
   "cell_type": "code",
   "execution_count": null,
   "metadata": {},
   "outputs": [],
   "source": [
    "import traitlets\n",
    "\n",
    "robot = Robot()\n",
    "\n",
    "left_link = traitlets.dlink((controller.axes[1], 'value'), (robot.left_motor, 'value'), transform=lambda x: -x)\n",
    "right_link = traitlets.dlink((controller.axes[3], 'value'), (robot.right_motor, 'value'), transform=lambda x: -x)"
   ]
  },
  {
   "cell_type": "code",
   "execution_count": null,
   "metadata": {},
   "outputs": [],
   "source": [
    "import ipywidgets.widgets as widgets\n",
    "from IPython.display import display\n",
    "import traitlets\n",
    "\n",
    "controller = widgets.Controller(index=0)  # replace with index of your controller\n",
    "\n",
    "display(controller)"
   ]
  },
  {
   "cell_type": "code",
   "execution_count": null,
   "metadata": {},
   "outputs": [],
   "source": [
    "import ipywidgets.widgets as widgets\n",
    "from IPython.display import display\n",
    "import traitlets\n",
    "\n",
    "controller = widgets.Controller(index=0)  # replace with index of your controller\n",
    "\n",
    "display(controller)\n",
    "\n",
    "class Robot():\n",
    "    def __init__(self, name):\n",
    "        self.name = name\n",
    "    Forward = traitlets.Float(0)\n",
    "    Right = traitlets.Float(0)\n",
    "    Rotate = traitlets.Float(0)\n",
    "\n",
    "\n",
    "robot1 = Robot(1)\n",
    "\n",
    "# left_link = traitlets.dlink((controller.axes[1], 'value'), (robot1.Forward, 'value'), transform=lambda x: x*1)\n",
    "# right_link = traitlets.dlink((controller.axes[0], 'value'), (robot1.Right, 'value'), transform=lambda x: x*1)\n",
    "\n",
    "# create two sliders with range [-1.0, 1.0]\n",
    "left_slider = widgets.FloatSlider(description='left', min=-1.0, max=1.0, step=0.01, orientation='vertical')\n",
    "right_slider = widgets.FloatSlider(description='right', min=-1.0, max=1.0, step=0.01, orientation='vertical')\n",
    "\n",
    "# create a horizontal box container to place the sliders next to eachother\n",
    "slider_container = widgets.HBox([left_slider, right_slider])\n",
    "\n",
    "# display the container in this cell's output\n",
    "display(slider_container)\n",
    "\n",
    "left_link = traitlets.link((left_slider, 'value'), (robot1.Forward, 'value'))\n",
    "right_link = traitlets.link((right_slider, 'value'), (robot1.Right, 'value'))"
   ]
  },
  {
   "cell_type": "code",
   "execution_count": null,
   "metadata": {},
   "outputs": [],
   "source": [
    "import traitlets\n",
    "\n",
    "class Robot():\n",
    "    def __init__(self, name):\n",
    "        self.name = name\n",
    "    class Speed(HasTraits):\n",
    "        Forward = Float()\n",
    "        Right = Float()\n",
    "        Rotate = Float()\n",
    "\n",
    "Car1 = Robot(1)\n",
    "\n",
    "Car1.Speed.Forward = 1"
   ]
  },
  {
   "cell_type": "code",
   "execution_count": null,
   "metadata": {},
   "outputs": [],
   "source": [
    "import ipywidgets.widgets as widgets\n",
    "from IPython.display import display\n",
    "import traitlets\n",
    "\n",
    "class Speed(traitlets.config.configurable):\n",
    "    Forward = traitlets.Float(default_value=0.0)\n",
    "#     Right = 0\n",
    "#     Rotate = 0\n",
    "\n",
    "left_slider = widgets.FloatSlider(description='left', min=-1.0, max=1.0, step=0.01, orientation='vertical')\n",
    "\n",
    "left_link = traitlets.dlink((left_slider, 'value'), (Speed.Forward, 'value'))"
   ]
  },
  {
   "cell_type": "code",
   "execution_count": null,
   "metadata": {},
   "outputs": [],
   "source": [
    "import time\n",
    "import traitlets\n",
    "from traitlets.config.configurable import SingletonConfigurable\n",
    "# from Adafruit_MotorHAT import Adafruit_MotorHAT\n",
    "\n",
    "import atexit\n",
    "from traitlets.config.configurable import Configurable\n",
    "\n",
    "class Motor(Configurable):\n",
    "\n",
    "    value = traitlets.Float()\n",
    "    \n",
    "    # config\n",
    "    alpha = traitlets.Float(default_value=1.0).tag(config=True)\n",
    "    beta = traitlets.Float(default_value=0.0).tag(config=True)\n",
    "\n",
    "    def __init__(self, driver, channel, *args, **kwargs):\n",
    "        super(Motor, self).__init__(*args, **kwargs)  # initializes traitlets\n",
    "\n",
    "        self._driver = driver\n",
    "        self._motor = self._driver.getMotor(channel)\n",
    "        atexit.register(self._release)\n",
    "        \n",
    "    @traitlets.observe('value')\n",
    "#     def _observe_value(self, change):\n",
    "#         self._write_value(change['new'])\n",
    "\n",
    "#     def _write_value(self, value):\n",
    "#         \"\"\"Sets motor value between [-1, 1]\"\"\"\n",
    "#         mapped_value = int(255.0 * (self.alpha * value + self.beta))\n",
    "#         speed = min(max(abs(mapped_value), 0), 255)\n",
    "#         self._motor.setSpeed(speed)\n",
    "#         if mapped_value < 0:\n",
    "#             self._motor.run(Adafruit_MotorHAT.FORWARD)\n",
    "#         else:\n",
    "#             self._motor.run(Adafruit_MotorHAT.BACKWARD)\n",
    "\n",
    "#     def _release(self):\n",
    "#         \"\"\"Stops motor by releasing control\"\"\"\n",
    "#         self._motor.run(Adafruit_MotorHAT.RELEASE)\n",
    "\n",
    "\n",
    "class Robot(SingletonConfigurable):\n",
    "    \n",
    "    \n",
    "    left_motor = traitlets.Instance(Motor)\n",
    "    right_motor = traitlets.Instance(Motor)\n",
    "\n",
    "    # config\n",
    "    i2c_bus = traitlets.Integer(default_value=1).tag(config=True)\n",
    "    left_motor_channel = traitlets.Integer(default_value=1).tag(config=True)\n",
    "    left_motor_alpha = traitlets.Float(default_value=1.0).tag(config=True)\n",
    "    right_motor_channel = traitlets.Integer(default_value=2).tag(config=True)\n",
    "    right_motor_alpha = traitlets.Float(default_value=1.0).tag(config=True)\n",
    "\n",
    "    def __init__(self, *args, **kwargs):\n",
    "        super(Robot, self).__init__(*args, **kwargs)\n",
    "    #         self.motor_driver = Adafruit_MotorHAT(i2c_bus=self.i2c_bus)\n",
    "        self.left_motor = Motor(self.motor_driver, channel=self.left_motor_channel, alpha=self.left_motor_alpha)\n",
    "        self.right_motor = Motor(self.motor_driver, channel=self.right_motor_channel, alpha=self.right_motor_alpha)\n",
    "\n",
    "        \n",
    "robot = Robot()\n",
    "\n",
    "import ipywidgets.widgets as widgets\n",
    "from IPython.display import display\n",
    "\n",
    "# create two sliders with range [-1.0, 1.0]\n",
    "left_slider = widgets.FloatSlider(description='left', min=-1.0, max=1.0, step=0.01, orientation='vertical')\n",
    "right_slider = widgets.FloatSlider(description='right', min=-1.0, max=1.0, step=0.01, orientation='vertical')\n",
    "\n",
    "# create a horizontal box container to place the sliders next to eachother\n",
    "slider_container = widgets.HBox([left_slider, right_slider])\n",
    "\n",
    "# display the container in this cell's output\n",
    "display(slider_container)\n",
    "\n",
    "import traitlets\n",
    "\n",
    "left_link = traitlets.link((left_slider, 'value'), (robot.left_motor, 'value'))\n",
    "right_link = traitlets.link((right_slider, 'value'), (robot.right_motor, 'value'))"
   ]
  },
  {
   "cell_type": "code",
   "execution_count": null,
   "metadata": {},
   "outputs": [],
   "source": [
    "import traitlets\n",
    "from traitlets import HasTraits, Unicode, default\n",
    "from traitlets.config.configurable import SingletonConfigurable, Configurable\n",
    "from traitlets import Float\n",
    "import ipywidgets.widgets as widgets\n",
    "from IPython.display import display\n",
    "\n",
    "# create two sliders with range [-1.0, 1.0]\n",
    "left_slider = widgets.FloatSlider(description='left', min=-1.0, max=1.0, step=0.01, orientation='vertical')\n",
    "right_slider = widgets.FloatSlider(description='right', min=-1.0, max=1.0, step=0.01, orientation='vertical')\n",
    "\n",
    "# create a horizontal box container to place the sliders next to eachother\n",
    "slider_container = widgets.HBox([left_slider, right_slider])\n",
    "\n",
    "# display the container in this cell's output\n",
    "display(slider_container)\n",
    "\n",
    "# class Speed(Configurable):\n",
    "#     value = traitlets.Float(default_value=0).tag(config=True)\n",
    "#     @traitlets.observe('value')\n",
    "#     def _observe_value(self, change):\n",
    "#         self._write_value(change['new'])\n",
    "\n",
    "# class Robot(SingletonConfigurable):\n",
    "#     speed = traitlets.Instance(Speed)\n",
    "class Robot(HasTraits):\n",
    "    speed = traitlets.Float(default_value=0).tag(config=True)\n",
    "\n",
    "\n",
    "    \n",
    "robot = Robot()\n",
    "    \n",
    "left_link = traitlets.link((left_slider, 'value'), (robot.speed, 'value'))"
   ]
  },
  {
   "cell_type": "markdown",
   "metadata": {},
   "source": [
    "# 先整合一个能用的"
   ]
  },
  {
   "cell_type": "code",
   "execution_count": null,
   "metadata": {},
   "outputs": [],
   "source": [
    "import ipywidgets.widgets as widgets\n",
    "\n",
    "controller = widgets.Controller(index=0)  # replace with index of your controller\n",
    "\n",
    "display(controller)"
   ]
  },
  {
   "cell_type": "code",
   "execution_count": null,
   "metadata": {},
   "outputs": [],
   "source": [
    "Forward = controller.axes[1]\n",
    "Right = controller.axes[2]"
   ]
  },
  {
   "cell_type": "code",
   "execution_count": null,
   "metadata": {},
   "outputs": [],
   "source": [
    "display(Forward)\n",
    "display(Right)"
   ]
  },
  {
   "cell_type": "code",
   "execution_count": null,
   "metadata": {},
   "outputs": [],
   "source": [
    "\n",
    "# 这一部分必须先执行完再执行下面的\n",
    "\n",
    "# import ipywidgets.widgets as widgets\n",
    "\n",
    "# controller = widgets.Controller(index=0)  # replace with index of your controller\n",
    "\n",
    "# display(controller)\n",
    "\n",
    "###############################################################\n",
    "\n",
    "Forward = controller.axes[1]\n",
    "Right = controller.axes[2]\n",
    "\n",
    "\n",
    "# create a horizontal box container to place the sliders next to eachother\n",
    "Joystick_container = widgets.HBox([Forward, Right])\n",
    "\n",
    "# display the container in this cell's output\n",
    "display(Joystick_container)\n",
    "\n",
    "# create two sliders with range [-1.0, 1.0]\n",
    "left_slider = widgets.FloatSlider(description='left', min=-1.0, max=1.0, step=0.01, orientation='vertical')\n",
    "right_slider = widgets.FloatSlider(description='right', min=-1.0, max=1.0, step=0.01, orientation='vertical')\n",
    "\n",
    "# create a horizontal box container to place the sliders next to eachother\n",
    "slider_container = widgets.HBox([left_slider, right_slider])\n",
    "\n",
    "# display the container in this cell's output\n",
    "display(slider_container)\n",
    "\n",
    "import traitlets\n",
    "\n",
    "left_link = traitlets.dlink((Forward, 'value'), (left_slider, 'value'))\n",
    "right_link = traitlets.dlink((Right, 'value'), (right_slider, 'value'))"
   ]
  },
  {
   "cell_type": "code",
   "execution_count": null,
   "metadata": {},
   "outputs": [],
   "source": [
    "print(Forward.value)"
   ]
  },
  {
   "cell_type": "code",
   "execution_count": null,
   "metadata": {},
   "outputs": [],
   "source": [
    "Forward.value"
   ]
  },
  {
   "cell_type": "code",
   "execution_count": null,
   "metadata": {},
   "outputs": [],
   "source": [
    "# 需要每次刷新\n",
    "Forward2=format(Forward.value, '.2f')\n",
    "Right2=format(Right.value, '.2f')\n",
    "Package = Forward2+','+Right2"
   ]
  },
  {
   "cell_type": "code",
   "execution_count": null,
   "metadata": {},
   "outputs": [],
   "source": [
    "Package"
   ]
  },
  {
   "cell_type": "markdown",
   "metadata": {},
   "source": [
    "## 这个Work?"
   ]
  },
  {
   "cell_type": "code",
   "execution_count": null,
   "metadata": {},
   "outputs": [],
   "source": [
    "import ipywidgets.widgets as widgets\n",
    "\n",
    "controller = widgets.Controller(index=0)  # replace with index of your controller\n",
    "\n",
    "display(controller)"
   ]
  },
  {
   "cell_type": "code",
   "execution_count": null,
   "metadata": {},
   "outputs": [],
   "source": [
    "# time.sleep(0.1) 延时\n",
    "import time\n",
    "# Asynchronous operation\n",
    "# Transmitting data asynchronously means that your application does not block during the transmit process. However, you cannot ensure that the data was successfully sent to the remote device.\n",
    "\n",
    "from digi.xbee.devices import XBeeDevice\n",
    "\n",
    "# TODO: Replace with the serial port where your local module is connected to.\n",
    "PORT = \"COM5\"\n",
    "# TODO: Replace with the baud rate of your local module.\n",
    "BAUD_RATE = 9600\n",
    "\n",
    "DATA_TO_SEND = \"Hello XBee!\"\n",
    "REMOTE_NODE_ID = \"Test\"\n",
    "\n",
    "\n",
    "def main():\n",
    "    print(\" +-----------------------------------------------------+\")\n",
    "    print(\" | XBee Python Library Send Data Asynchronously Sample |\")\n",
    "    print(\" +-----------------------------------------------------+\\n\")\n",
    "\n",
    "    device = XBeeDevice(PORT, BAUD_RATE)\n",
    "\n",
    "    try:\n",
    "        device.open()\n",
    "\n",
    "        # Obtain the remote XBee device from the XBee network.\n",
    "        xbee_network = device.get_network()\n",
    "        remote_device = xbee_network.discover_device(REMOTE_NODE_ID)\n",
    "        if remote_device is None:\n",
    "            print(\"Could not find the remote device\")\n",
    "            exit(1)\n",
    "\n",
    "        print(\"Sending data asynchronously to %s >> %s...\" % (remote_device.get_64bit_addr(), DATA_TO_SEND))\n",
    "\n",
    "        device.send_data_async(remote_device, DATA_TO_SEND)\n",
    "\n",
    "        print(\"Success\")\n",
    "        \n",
    "        for i in range(10):\n",
    "            Package = 'Speed'+','+format(controller.axes[1].value, '.2f')+','+format(controller.axes[2].value, '.2f')\n",
    "            display(Package)\n",
    "            device.send_data_async(remote_device, Package)\n",
    "            time.sleep(0.1)\n",
    "            \n",
    "\n",
    "    finally:\n",
    "        if device is not None and device.is_open():\n",
    "            device.close()\n",
    "\n",
    "\n",
    "if __name__ == '__main__':\n",
    "    main()\n"
   ]
  },
  {
   "cell_type": "code",
   "execution_count": 14,
   "metadata": {},
   "outputs": [
    {
     "data": {
      "text/plain": [
       "0.0"
      ]
     },
     "execution_count": 14,
     "metadata": {},
     "output_type": "execute_result"
    }
   ],
   "source": [
    "import pygame\n",
    "pygame.joystick.init()\n",
    "joysticks = [pygame.joystick.Joystick(x) for x in range(pygame.joystick.get_count())]\n",
    " \n",
    "pygame.joystick.Joystick(0).init()\n",
    "pygame.joystick.Joystick(0).get_axis(3)"
   ]
  },
  {
   "cell_type": "code",
   "execution_count": 9,
   "metadata": {},
   "outputs": [
    {
     "ename": "error",
     "evalue": "Joystick not initialized",
     "output_type": "error",
     "traceback": [
      "\u001b[1;31m---------------------------------------------------------------------------\u001b[0m",
      "\u001b[1;31merror\u001b[0m                                     Traceback (most recent call last)",
      "\u001b[1;32m<ipython-input-9-d3879cf97ee6>\u001b[0m in \u001b[0;36m<module>\u001b[1;34m\u001b[0m\n\u001b[1;32m----> 1\u001b[1;33m \u001b[0mpygame\u001b[0m\u001b[1;33m.\u001b[0m\u001b[0mjoystick\u001b[0m\u001b[1;33m.\u001b[0m\u001b[0mJoystick\u001b[0m\u001b[1;33m(\u001b[0m\u001b[1;36m0\u001b[0m\u001b[1;33m)\u001b[0m\u001b[1;33m.\u001b[0m\u001b[0mget_axis\u001b[0m\u001b[1;33m(\u001b[0m\u001b[1;36m3\u001b[0m\u001b[1;33m)\u001b[0m\u001b[1;33m\u001b[0m\u001b[1;33m\u001b[0m\u001b[0m\n\u001b[0m",
      "\u001b[1;31merror\u001b[0m: Joystick not initialized"
     ]
    }
   ],
   "source": []
  },
  {
   "cell_type": "code",
   "execution_count": null,
   "metadata": {},
   "outputs": [],
   "source": []
  }
 ],
 "metadata": {
  "file_extension": ".py",
  "kernelspec": {
   "display_name": "Python 3.8.1 64-bit",
   "language": "python",
   "name": "python38164bite39038af795f47b19a575499b996410f"
  },
  "language_info": {
   "codemirror_mode": {
    "name": "ipython",
    "version": 3
   },
   "file_extension": ".py",
   "mimetype": "text/x-python",
   "name": "python",
   "nbconvert_exporter": "python",
   "pygments_lexer": "ipython3",
   "version": "3.8.1"
  },
  "mimetype": "text/x-python",
  "name": "python",
  "npconvert_exporter": "python",
  "pygments_lexer": "ipython3",
  "version": 3
 },
 "nbformat": 4,
 "nbformat_minor": 4
}
