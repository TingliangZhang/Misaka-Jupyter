{
 "nbformat": 4,
 "nbformat_minor": 2,
 "metadata": {
  "language_info": {
   "name": "python",
   "codemirror_mode": {
    "name": "ipython",
    "version": 3
   },
   "version": "3.8.1-final"
  },
  "orig_nbformat": 2,
  "file_extension": ".py",
  "mimetype": "text/x-python",
  "name": "python",
  "npconvert_exporter": "python",
  "pygments_lexer": "ipython3",
  "version": 3,
  "kernelspec": {
   "name": "python38164bite39038af795f47b19a575499b996410f",
   "display_name": "Python 3.8.1 64-bit"
  }
 },
 "cells": [
  {
   "cell_type": "markdown",
   "metadata": {},
   "source": [
    "# Teleoperation\n",
    "\n",
    "In this example we'll control the Bot remotely with a gamepad controller connected to our web browser machine."
   ],
   "execution_count": null,
   "outputs": []
  },
  {
   "cell_type": "markdown",
   "metadata": {},
   "source": [
    "### Create gamepad controller\n",
    "\n",
    "The first thing we want to do is create an instance of the ``Controller`` widget, which we'll use to drive our robot.\n",
    "The ``Controller`` widget takes a ``index`` parameter, which specifies the number of the controller.  This is useful in case you\n",
    "have multiple controllers attached, or some gamepads *appear* as multiple controllers.  To determine the index\n",
    "of the controller you're using,\n",
    "\n",
    "1. Visit [http://html5gamepad.com](http://html5gamepad.com).  \n",
    "2. Press buttons on the gamepad you're using\n",
    "3. Remember the ``index`` of the gamepad that is responding to the button presses\n",
    "\n",
    "Next, we'll create and display our controller using that index."
   ],
   "execution_count": null,
   "outputs": []
  },
  {
   "cell_type": "code",
   "execution_count": 1,
   "metadata": {},
   "outputs": [
    {
     "output_type": "display_data",
     "data": {
      "text/plain": "Controller()",
      "application/vnd.jupyter.widget-view+json": {
       "version_major": 2,
       "version_minor": 0,
       "model_id": "fd36f0a10a8b4c4393baa0156435f536"
      }
     },
     "metadata": {}
    }
   ],
   "source": [
    "import ipywidgets.widgets as widgets\n",
    "\n",
    "controller = widgets.Controller(index=0)  # replace with index of your controller\n",
    "\n",
    "display(controller)"
   ]
  },
  {
   "cell_type": "markdown",
   "metadata": {},
   "source": [
    "Even if the index is correct, you may see the text ``Connect gamepad and press any button``.  That's because the gamepad hasn't\n",
    "registered with this notebook yet.  Press a button and you should see the gamepad widget appear above."
   ],
   "execution_count": null,
   "outputs": []
  },
  {
   "cell_type": "markdown",
   "metadata": {},
   "source": [
    "### Connect gamepad controller to robot motors\n",
    "\n",
    "Now, even though we've connected our gamepad, we haven't yet attached the controls to our robot!  The first, and most simple control\n",
    "we want to attach is the motor control.  We'll connect that to the left and right vertical axes using the ``dlink`` function.  The\n",
    "``dlink`` function, unlike the ``link`` function, allows us to attach a transform between the ``source`` and ``target``.  Because\n",
    "the controller axes are flipped from what we think is intuitive for the motor control, we'll use a small *lambda* function to\n",
    "negate the value.\n",
    "\n",
    "> WARNING: This next cell will move the robot if you touch the gamepad controller axes!"
   ],
   "execution_count": null,
   "outputs": []
  },
  {
   "cell_type": "code",
   "execution_count": null,
   "metadata": {},
   "outputs": [],
   "source": [
    "import traitlets\n",
    "\n",
    "robot = Robot()\n",
    "\n",
    "left_link = traitlets.dlink((controller.axes[1], 'value'), (robot.left_motor, 'value'), transform=lambda x: -x)\n",
    "right_link = traitlets.dlink((controller.axes[3], 'value'), (robot.right_motor, 'value'), transform=lambda x: -x)"
   ]
  },
  {
   "cell_type": "markdown",
   "metadata": {},
   "source": [
    "Awesome! Our robot should now respond to our gamepad controller movements.  Now we want to view the live video feed from the camera!"
   ],
   "execution_count": null,
   "outputs": []
  },
  {
   "cell_type": "code",
   "execution_count": null,
   "metadata": {},
   "outputs": [],
   "source": []
  },
  {
   "cell_type": "markdown",
   "metadata": {},
   "source": [
    "# XBee TX on Python\n",
    "\n"
   ],
   "execution_count": null,
   "outputs": []
  },
  {
   "cell_type": "markdown",
   "metadata": {},
   "source": [
    "Import the XBeeDevice class by executing the following command:\n",
    "\n",
    "> from digi.xbee.devices import XBeeDevice\n",
    "Instantiate a generic XBee device:\n",
    "\n",
    "> device = XBeeDevice(\"COM1\", 9600)\n",
    "Note\n",
    "\n",
    "Remember to replace the COM port with the one your sender XBee device is connected to. In UNIX-based systems, the port usually starts with /dev/tty.\n",
    "\n",
    "Open the connection with the device:\n",
    "\n",
    "> device.open()\n",
    "Send the Hello XBee World! broadcast message.\n",
    "\n",
    "> device.send_data_broadcast(\"Hello XBee World!\")\n",
    "Close the connection with the device:\n",
    "\n",
    "> device.close()"
   ],
   "execution_count": null,
   "outputs": []
  },
  {
   "cell_type": "code",
   "execution_count": null,
   "metadata": {},
   "outputs": [],
   "source": [
    "from digi.xbee.devices import XBeeDevice\n",
    "device = XBeeDevice(\"COM5\", 9600)\n",
    "device.open()\n",
    "device.send_data_broadcast(\"Hello XBee World!\")\n",
    "device.close()"
   ]
  },
  {
   "cell_type": "markdown",
   "metadata": {},
   "source": [
    "## Retrieve the XBee network"
   ],
   "execution_count": null,
   "outputs": []
  },
  {
   "cell_type": "code",
   "execution_count": null,
   "metadata": {},
   "outputs": [],
   "source": [
    "from digi.xbee.devices import XBeeDevice\n",
    "\n",
    "# Instantiate an XBee device object.\n",
    "xbee = XBeeDevice(\"COM5\", 9600)\n",
    "\n",
    "xbee.open()\n",
    "\n",
    "# Get the XBee Network object from the XBee device.\n",
    "xnet = xbee.get_network()\n",
    "\n",
    "# Start the discovery process and wait for it to be over.\n",
    "xnet.start_discovery_process()\n",
    "while xnet.is_discovery_running():\n",
    "    time.sleep(0.5)\n",
    "\n",
    "# Get a list of the devices added to the network.\n",
    "devices = xnet.get_devices()\n",
    "\n",
    "xbee.close()"
   ]
  },
  {
   "cell_type": "markdown",
   "metadata": {},
   "source": [
    "# XBee异步发送字符串或整数"
   ]
  },
  {
   "cell_type": "code",
   "execution_count": null,
   "metadata": {},
   "outputs": [],
   "source": [
    "# Asynchronous operation\n",
    "# Transmitting data asynchronously means that your application does not block during the transmit process. However, you cannot ensure that the data was successfully sent to the remote device.\n",
    "\n",
    "from digi.xbee.devices import XBeeDevice\n",
    "\n",
    "# TODO: Replace with the serial port where your local module is connected to.\n",
    "PORT = \"COM5\"\n",
    "# TODO: Replace with the baud rate of your local module.\n",
    "BAUD_RATE = 9600\n",
    "\n",
    "DATA_TO_SEND = \"Hello XBee!\"\n",
    "REMOTE_NODE_ID = \"Test\"\n",
    "\n",
    "\n",
    "def main():\n",
    "    print(\" +-----------------------------------------------------+\")\n",
    "    print(\" | XBee Python Library Send Data Asynchronously Sample |\")\n",
    "    print(\" +-----------------------------------------------------+\\n\")\n",
    "\n",
    "    device = XBeeDevice(PORT, BAUD_RATE)\n",
    "\n",
    "    try:\n",
    "        device.open()\n",
    "\n",
    "        # Obtain the remote XBee device from the XBee network.\n",
    "        xbee_network = device.get_network()\n",
    "        remote_device = xbee_network.discover_device(REMOTE_NODE_ID)\n",
    "        if remote_device is None:\n",
    "            print(\"Could not find the remote device\")\n",
    "            exit(1)\n",
    "\n",
    "        print(\"Sending data asynchronously to %s >> %s...\" % (remote_device.get_64bit_addr(), DATA_TO_SEND))\n",
    "\n",
    "        device.send_data_async(remote_device, DATA_TO_SEND)\n",
    "\n",
    "        print(\"Success\")\n",
    "\n",
    "    finally:\n",
    "        if device is not None and device.is_open():\n",
    "            device.close()\n",
    "\n",
    "\n",
    "if __name__ == '__main__':\n",
    "    main()\n"
   ]
  },
  {
   "cell_type": "markdown",
   "metadata": {},
   "source": [
    "# 两个滑块和traitlets"
   ]
  },
  {
   "cell_type": "code",
   "execution_count": 2,
   "metadata": {},
   "outputs": [
    {
     "output_type": "display_data",
     "data": {
      "text/plain": "HBox(children=(FloatSlider(value=0.0, description='left', max=1.0, min=-1.0, orientation='vertical', step=0.01…",
      "application/vnd.jupyter.widget-view+json": {
       "version_major": 2,
       "version_minor": 0,
       "model_id": "409cca1b70e744519104afcdb6807e2a"
      }
     },
     "metadata": {}
    }
   ],
   "source": [
    "import ipywidgets.widgets as widgets\n",
    "from IPython.display import display\n",
    "\n",
    "# create two sliders with range [-1.0, 1.0]\n",
    "left_slider = widgets.FloatSlider(description='left', min=-1.0, max=1.0, step=0.01, orientation='vertical')\n",
    "right_slider = widgets.FloatSlider(description='right', min=-1.0, max=1.0, step=0.01, orientation='vertical')\n",
    "\n",
    "# create a horizontal box container to place the sliders next to eachother\n",
    "slider_container = widgets.HBox([left_slider, right_slider])\n",
    "\n",
    "# display the container in this cell's output\n",
    "display(slider_container)"
   ]
  },
  {
   "cell_type": "code",
   "execution_count": null,
   "metadata": {},
   "outputs": [],
   "source": [
    "import traitlets\n",
    "\n",
    "# link双向\n",
    "# left_link = traitlets.link((left_slider, 'value'), (robot.left_motor, 'value'))\n",
    "# right_link = traitlets.link((right_slider, 'value'), (robot.right_motor, 'value'))\n",
    "\n",
    "# dlink单向\n",
    "left_link = traitlets.dlink((robot.left_motor, 'value'), (left_slider, 'value'))\n",
    "right_link = traitlets.dlink((robot.right_motor, 'value'), (right_slider, 'value'))"
   ]
  },
  {
   "cell_type": "code",
   "execution_count": null,
   "metadata": {},
   "outputs": [],
   "source": [
    "import traitlets\n",
    "\n",
    "robot = Robot()\n",
    "\n",
    "left_link = traitlets.dlink((controller.axes[1], 'value'), (robot.left_motor, 'value'), transform=lambda x: -x)\n",
    "right_link = traitlets.dlink((controller.axes[3], 'value'), (robot.right_motor, 'value'), transform=lambda x: -x)"
   ]
  }
 ]
}